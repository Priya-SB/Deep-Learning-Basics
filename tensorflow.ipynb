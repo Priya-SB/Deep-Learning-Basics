{
 "cells": [
  {
   "cell_type": "markdown",
   "id": "04c7092f",
   "metadata": {},
   "source": [
    "#### Priya Bannur | 1032170692\n",
    "Deep Learning Lab 1"
   ]
  },
  {
   "cell_type": "code",
   "execution_count": 1,
   "id": "209873ae",
   "metadata": {},
   "outputs": [],
   "source": [
    "import tensorflow as tf"
   ]
  },
  {
   "cell_type": "code",
   "execution_count": 2,
   "id": "752f834a",
   "metadata": {},
   "outputs": [],
   "source": [
    "tf.compat.v1.disable_eager_execution()  #Disable Eager Execution and use Deferred/Lazy Execution"
   ]
  },
  {
   "cell_type": "markdown",
   "id": "abcf6295",
   "metadata": {},
   "source": [
    "#### Tensor Nodes"
   ]
  },
  {
   "cell_type": "code",
   "execution_count": 3,
   "id": "4e657b76",
   "metadata": {},
   "outputs": [],
   "source": [
    "a=tf.constant(2.0) #node created"
   ]
  },
  {
   "cell_type": "code",
   "execution_count": 4,
   "id": "fed21a31",
   "metadata": {},
   "outputs": [
    {
     "data": {
      "text/plain": [
       "<tf.Tensor 'Const:0' shape=() dtype=float32>"
      ]
     },
     "execution_count": 4,
     "metadata": {},
     "output_type": "execute_result"
    }
   ],
   "source": [
    "a"
   ]
  },
  {
   "cell_type": "code",
   "execution_count": 5,
   "id": "0fa0e233",
   "metadata": {},
   "outputs": [],
   "source": [
    "sess=tf.compat.v1.Session() #create session"
   ]
  },
  {
   "cell_type": "code",
   "execution_count": 6,
   "id": "3f4a5f28",
   "metadata": {},
   "outputs": [
    {
     "name": "stdout",
     "output_type": "stream",
     "text": [
      "2.0\n"
     ]
    }
   ],
   "source": [
    "print(sess.run(a))"
   ]
  },
  {
   "cell_type": "code",
   "execution_count": 7,
   "id": "c38f4e9d",
   "metadata": {},
   "outputs": [
    {
     "name": "stdout",
     "output_type": "stream",
     "text": [
      "Tensor Type: <class 'tensorflow.python.framework.ops.Tensor'>\n"
     ]
    }
   ],
   "source": [
    "print(\"Tensor Type: %s\" %type(a))  #constant tensor"
   ]
  },
  {
   "cell_type": "markdown",
   "id": "c4e7e21f",
   "metadata": {},
   "source": [
    "#### Basic Operations in TensorFlow"
   ]
  },
  {
   "cell_type": "code",
   "execution_count": 8,
   "id": "74d919af",
   "metadata": {},
   "outputs": [],
   "source": [
    "b=tf.constant(5.0)\n",
    "c=a+b #addition"
   ]
  },
  {
   "cell_type": "code",
   "execution_count": 9,
   "id": "9731d7a4",
   "metadata": {},
   "outputs": [
    {
     "name": "stdout",
     "output_type": "stream",
     "text": [
      "[<tf.Tensor 'Const:0' shape=() dtype=float32>, <tf.Tensor 'Const_1:0' shape=() dtype=float32>, <tf.Tensor 'add:0' shape=() dtype=float32>]\n"
     ]
    }
   ],
   "source": [
    "print([a,b,c])"
   ]
  },
  {
   "cell_type": "code",
   "execution_count": 10,
   "id": "e0695d8d",
   "metadata": {},
   "outputs": [
    {
     "data": {
      "text/plain": [
       "7.0"
      ]
     },
     "execution_count": 10,
     "metadata": {},
     "output_type": "execute_result"
    }
   ],
   "source": [
    "sess.run(c)"
   ]
  },
  {
   "cell_type": "markdown",
   "id": "343bd894",
   "metadata": {},
   "source": [
    "#### TensorBoard Visualization"
   ]
  },
  {
   "cell_type": "code",
   "execution_count": 11,
   "id": "23caba0f",
   "metadata": {},
   "outputs": [],
   "source": [
    "%load_ext tensorboard \n",
    "#Load the TensorBoard notebook extension"
   ]
  },
  {
   "cell_type": "code",
   "execution_count": 12,
   "id": "d029da15",
   "metadata": {},
   "outputs": [
    {
     "name": "stdout",
     "output_type": "stream",
     "text": [
      "350\n"
     ]
    }
   ],
   "source": [
    "with tf.compat.v1.Session() as sess:\n",
    "    a=tf.constant(100,name=\"input_A\")\n",
    "    b=tf.constant(250,name=\"input_B\")\n",
    "    c=tf.add(a,b,name=\"Result\")\n",
    "    writer=tf.compat.v1.summary.FileWriter(\"./logs\",sess.graph)\n",
    "    print(sess.run(c))\n",
    "    sess.close()"
   ]
  }
 ],
 "metadata": {
  "kernelspec": {
   "display_name": "Python 3",
   "language": "python",
   "name": "python3"
  },
  "language_info": {
   "codemirror_mode": {
    "name": "ipython",
    "version": 3
   },
   "file_extension": ".py",
   "mimetype": "text/x-python",
   "name": "python",
   "nbconvert_exporter": "python",
   "pygments_lexer": "ipython3",
   "version": "3.5.6"
  }
 },
 "nbformat": 4,
 "nbformat_minor": 5
}
