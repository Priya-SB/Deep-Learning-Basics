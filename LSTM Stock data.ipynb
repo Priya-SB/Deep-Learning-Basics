{
 "cells": [
  {
   "cell_type": "markdown",
   "id": "cc961502",
   "metadata": {},
   "source": [
    "#### Priya Bannur | 1032170692\n",
    "Deep Learning Lab 4"
   ]
  },
  {
   "cell_type": "code",
   "execution_count": 1,
   "id": "84af53e4",
   "metadata": {},
   "outputs": [],
   "source": [
    "import math\n",
    "import numpy as np\n",
    "import matplotlib.pyplot as plt\n",
    "import pandas as pd\n",
    "from sklearn.preprocessing import MinMaxScaler\n",
    "from tensorflow.keras.models import Sequential\n",
    "from tensorflow.keras.layers import Dense, LSTM, Dropout, Bidirectional\n",
    "from tensorflow.keras.optimizers import SGD\n",
    "from sklearn.metrics import mean_squared_error"
   ]
  },
  {
   "cell_type": "markdown",
   "id": "74e9d7c1",
   "metadata": {},
   "source": [
    "###### Helper Functions"
   ]
  },
  {
   "cell_type": "code",
   "execution_count": 2,
   "id": "f7713804",
   "metadata": {},
   "outputs": [],
   "source": [
    "def plot_predictions(test,predicted):\n",
    "    plt.plot(test, color='red',label='Real IBM Stock Price')\n",
    "    plt.plot(predicted, color='blue',label='Predicted IBM Stock Price')\n",
    "    plt.title('IBM Stock Price Prediction')\n",
    "    plt.xlabel('Time')\n",
    "    plt.ylabel('IBM Stock Price')\n",
    "    plt.legend()\n",
    "    plt.show()\n",
    "\n",
    "def return_rmse(test,predicted):\n",
    "    rmse = math.sqrt(mean_squared_error(test, predicted))\n",
    "    print(\"The root mean squared error is {}.\".format(rmse))"
   ]
  },
  {
   "cell_type": "markdown",
   "id": "d1e3fc82",
   "metadata": {},
   "source": [
    "###### Data Preprocessing"
   ]
  },
  {
   "cell_type": "code",
   "execution_count": 3,
   "id": "3cab01aa",
   "metadata": {},
   "outputs": [
    {
     "data": {
      "text/html": [
       "<div>\n",
       "<style scoped>\n",
       "    .dataframe tbody tr th:only-of-type {\n",
       "        vertical-align: middle;\n",
       "    }\n",
       "\n",
       "    .dataframe tbody tr th {\n",
       "        vertical-align: top;\n",
       "    }\n",
       "\n",
       "    .dataframe thead th {\n",
       "        text-align: right;\n",
       "    }\n",
       "</style>\n",
       "<table border=\"1\" class=\"dataframe\">\n",
       "  <thead>\n",
       "    <tr style=\"text-align: right;\">\n",
       "      <th></th>\n",
       "      <th>Open</th>\n",
       "      <th>High</th>\n",
       "      <th>Low</th>\n",
       "      <th>Close</th>\n",
       "      <th>Volume</th>\n",
       "      <th>Name</th>\n",
       "    </tr>\n",
       "    <tr>\n",
       "      <th>Date</th>\n",
       "      <th></th>\n",
       "      <th></th>\n",
       "      <th></th>\n",
       "      <th></th>\n",
       "      <th></th>\n",
       "      <th></th>\n",
       "    </tr>\n",
       "  </thead>\n",
       "  <tbody>\n",
       "    <tr>\n",
       "      <th>2006-01-03</th>\n",
       "      <td>39.69</td>\n",
       "      <td>41.22</td>\n",
       "      <td>38.79</td>\n",
       "      <td>40.91</td>\n",
       "      <td>24232729</td>\n",
       "      <td>AABA</td>\n",
       "    </tr>\n",
       "    <tr>\n",
       "      <th>2006-01-04</th>\n",
       "      <td>41.22</td>\n",
       "      <td>41.90</td>\n",
       "      <td>40.77</td>\n",
       "      <td>40.97</td>\n",
       "      <td>20553479</td>\n",
       "      <td>AABA</td>\n",
       "    </tr>\n",
       "    <tr>\n",
       "      <th>2006-01-05</th>\n",
       "      <td>40.93</td>\n",
       "      <td>41.73</td>\n",
       "      <td>40.85</td>\n",
       "      <td>41.53</td>\n",
       "      <td>12829610</td>\n",
       "      <td>AABA</td>\n",
       "    </tr>\n",
       "    <tr>\n",
       "      <th>2006-01-06</th>\n",
       "      <td>42.88</td>\n",
       "      <td>43.57</td>\n",
       "      <td>42.80</td>\n",
       "      <td>43.21</td>\n",
       "      <td>29422828</td>\n",
       "      <td>AABA</td>\n",
       "    </tr>\n",
       "    <tr>\n",
       "      <th>2006-01-09</th>\n",
       "      <td>43.10</td>\n",
       "      <td>43.66</td>\n",
       "      <td>42.82</td>\n",
       "      <td>43.42</td>\n",
       "      <td>16268338</td>\n",
       "      <td>AABA</td>\n",
       "    </tr>\n",
       "  </tbody>\n",
       "</table>\n",
       "</div>"
      ],
      "text/plain": [
       "             Open   High    Low  Close    Volume  Name\n",
       "Date                                                  \n",
       "2006-01-03  39.69  41.22  38.79  40.91  24232729  AABA\n",
       "2006-01-04  41.22  41.90  40.77  40.97  20553479  AABA\n",
       "2006-01-05  40.93  41.73  40.85  41.53  12829610  AABA\n",
       "2006-01-06  42.88  43.57  42.80  43.21  29422828  AABA\n",
       "2006-01-09  43.10  43.66  42.82  43.42  16268338  AABA"
      ]
     },
     "execution_count": 3,
     "metadata": {},
     "output_type": "execute_result"
    }
   ],
   "source": [
    "dataset = pd.read_csv('Stock_dataset.csv', index_col='Date', parse_dates=['Date'])\n",
    "dataset.head()"
   ]
  },
  {
   "cell_type": "code",
   "execution_count": 4,
   "id": "9e891b61",
   "metadata": {},
   "outputs": [],
   "source": [
    "# Checking for missing values\n",
    "training_set = dataset[:'2016'].iloc[:,1:2].values\n",
    "test_set = dataset['2017':].iloc[:,1:2].values"
   ]
  },
  {
   "cell_type": "code",
   "execution_count": 5,
   "id": "c5faba54",
   "metadata": {},
   "outputs": [
    {
     "data": {
      "image/png": "[encoded data removed]",
      "text/plain": [
       "<Figure size 1152x288 with 1 Axes>"
      ]
     },
     "metadata": {
      "needs_background": "light"
     },
     "output_type": "display_data"
    }
   ],
   "source": [
    "# We have chosen 'High' attribute for prices.\n",
    "dataset[\"High\"][:'2016'].plot(figsize=(16,4),legend=True)\n",
    "dataset[\"High\"]['2017':].plot(figsize=(16,4),legend=True)\n",
    "plt.legend(['Training set (Before 2017)','Test set (2017 and beyond)'])\n",
    "plt.title('IBM stock price')\n",
    "plt.show()"
   ]
  },
  {
   "cell_type": "code",
   "execution_count": 6,
   "id": "53b7ea04",
   "metadata": {},
   "outputs": [],
   "source": [
    "# Scaling the training set\n",
    "sc = MinMaxScaler(feature_range=(0,1))\n",
    "training_set_scaled = sc.fit_transform(training_set)"
   ]
  },
  {
   "cell_type": "code",
   "execution_count": 7,
   "id": "9b4be10a",
   "metadata": {},
   "outputs": [
    {
     "data": {
      "text/plain": [
       "2768"
      ]
     },
     "execution_count": 7,
     "metadata": {},
     "output_type": "execute_result"
    }
   ],
   "source": [
    "len(training_set_scaled)"
   ]
  },
  {
   "cell_type": "code",
   "execution_count": 8,
   "id": "b4e2dc9d",
   "metadata": {},
   "outputs": [],
   "source": [
    "# data structure with 60 timesteps and 1 output\n",
    "X_train = []\n",
    "y_train = []\n",
    "for i in range(60,2768):\n",
    "    X_train.append(training_set_scaled[i-60:i,0])\n",
    "    y_train.append(training_set_scaled[i,0])\n",
    "X_train, y_train = np.array(X_train), np.array(y_train)"
   ]
  },
  {
   "cell_type": "code",
   "execution_count": 9,
   "id": "454832c7",
   "metadata": {},
   "outputs": [],
   "source": [
    "# Reshaping X_train for efficient modelling\n",
    "X_train = np.reshape(X_train, (X_train.shape[0],X_train.shape[1],1))"
   ]
  },
  {
   "cell_type": "code",
   "execution_count": 10,
   "id": "e5a0d61c",
   "metadata": {},
   "outputs": [],
   "source": [
    "# Now to get the test set ready in a similar way as the training set.\n",
    "# The following has been done so forst 60 entires of test set have 60 previous values which is impossible to get unless we take the whole \n",
    "# 'High' attribute data for processing\n",
    "dataset_total = pd.concat((dataset[\"High\"][:'2016'],dataset[\"High\"]['2017':]),axis=0)\n",
    "inputs = dataset_total[len(dataset_total)-len(test_set) - 60:].values\n",
    "inputs = inputs.reshape(-1,1)\n",
    "inputs  = sc.transform(inputs)"
   ]
  },
  {
   "cell_type": "code",
   "execution_count": 11,
   "id": "20532af3",
   "metadata": {},
   "outputs": [],
   "source": [
    "Xtest = []\n",
    "ytest = []\n",
    "for i in range(60,311):\n",
    "    Xtest.append(inputs[i-60:i,0])\n",
    "    ytest.append(inputs[i,0])\n",
    "Xtest, ytest = np.array(Xtest), np.array(ytest)\n",
    "Xtest = np.reshape(Xtest, (Xtest.shape[0],Xtest.shape[1],1))"
   ]
  },
  {
   "cell_type": "markdown",
   "id": "ce8d208a",
   "metadata": {},
   "source": [
    "###### Model Building"
   ]
  },
  {
   "cell_type": "code",
   "execution_count": 12,
   "id": "7ef8679b",
   "metadata": {},
   "outputs": [],
   "source": [
    "# The LSTM architecture\n",
    "model = Sequential()\n",
    "# First LSTM layer with Dropout regularisation\n",
    "model.add(LSTM(units=50, return_sequences=True, input_shape=(X_train.shape[1],1)))\n",
    "model.add(Dropout(0.2))\n",
    "\n",
    "model.add(LSTM(units=50, return_sequences=True))\n",
    "model.add(Dropout(0.2))\n",
    "\n",
    "model.add(LSTM(units=50, return_sequences=True))\n",
    "model.add(Dropout(0.2))\n",
    "\n",
    "model.add(LSTM(units=50))\n",
    "model.add(Dropout(0.2))\n",
    "\n",
    "model.add(Dense(units=1))"
   ]
  },
  {
   "cell_type": "code",
   "execution_count": 13,
   "id": "0cb00447",
   "metadata": {},
   "outputs": [
    {
     "name": "stdout",
     "output_type": "stream",
     "text": [
      "Model: \"sequential\"\n",
      "_________________________________________________________________\n",
      "Layer (type)                 Output Shape              Param #   \n",
      "=================================================================\n",
      "lstm (LSTM)                  (None, 60, 50)            10400     \n",
      "_________________________________________________________________\n",
      "dropout (Dropout)            (None, 60, 50)            0         \n",
      "_________________________________________________________________\n",
      "lstm_1 (LSTM)                (None, 60, 50)            20200     \n",
      "_________________________________________________________________\n",
      "dropout_1 (Dropout)          (None, 60, 50)            0         \n",
      "_________________________________________________________________\n",
      "lstm_2 (LSTM)                (None, 60, 50)            20200     \n",
      "_________________________________________________________________\n",
      "dropout_2 (Dropout)          (None, 60, 50)            0         \n",
      "_________________________________________________________________\n",
      "lstm_3 (LSTM)                (None, 50)                20200     \n",
      "_________________________________________________________________\n",
      "dropout_3 (Dropout)          (None, 50)                0         \n",
      "_________________________________________________________________\n",
      "dense (Dense)                (None, 1)                 51        \n",
      "=================================================================\n",
      "Total params: 71,051\n",
      "Trainable params: 71,051\n",
      "Non-trainable params: 0\n",
      "_________________________________________________________________\n"
     ]
    }
   ],
   "source": [
    "model.summary()"
   ]
  },
  {
   "cell_type": "markdown",
   "id": "77bc1b4f",
   "metadata": {},
   "source": [
    "##### Model Training"
   ]
  },
  {
   "cell_type": "code",
   "execution_count": 14,
   "id": "2fbbe4bd",
   "metadata": {},
   "outputs": [
    {
     "name": "stdout",
     "output_type": "stream",
     "text": [
      "Epoch 1/50\n",
      "85/85 [==============================] - 10s 120ms/step - loss: 0.0123\n",
      "Epoch 2/50\n",
      "85/85 [==============================] - 10s 113ms/step - loss: 0.0036\n",
      "Epoch 3/50\n",
      "85/85 [==============================] - 10s 117ms/step - loss: 0.0035\n",
      "Epoch 4/50\n",
      "85/85 [==============================] - 10s 119ms/step - loss: 0.0031\n",
      "Epoch 5/50\n",
      "85/85 [==============================] - 10s 112ms/step - loss: 0.0030\n",
      "Epoch 6/50\n",
      "85/85 [==============================] - 10s 114ms/step - loss: 0.0031\n",
      "Epoch 7/50\n",
      "85/85 [==============================] - 10s 121ms/step - loss: 0.0027\n",
      "Epoch 8/50\n",
      "85/85 [==============================] - 10s 118ms/step - loss: 0.0024\n",
      "Epoch 9/50\n",
      "85/85 [==============================] - 11s 124ms/step - loss: 0.0025\n",
      "Epoch 10/50\n",
      "85/85 [==============================] - 10s 117ms/step - loss: 0.0024\n",
      "Epoch 11/50\n",
      "85/85 [==============================] - 12s 143ms/step - loss: 0.00230s - loss:\n",
      "Epoch 12/50\n",
      "85/85 [==============================] - 13s 159ms/step - loss: 0.00200s - loss: 0\n",
      "Epoch 13/50\n",
      "85/85 [==============================] - 13s 148ms/step - loss: 0.0021\n",
      "Epoch 14/50\n",
      "85/85 [==============================] - 12s 142ms/step - loss: 0.0020\n",
      "Epoch 15/50\n",
      "85/85 [==============================] - 12s 147ms/step - loss: 0.0019\n",
      "Epoch 16/50\n",
      "85/85 [==============================] - 14s 160ms/step - loss: 0.0018\n",
      "Epoch 17/50\n",
      "85/85 [==============================] - 10s 120ms/step - loss: 0.0017\n",
      "Epoch 18/50\n",
      "85/85 [==============================] - 12s 143ms/step - loss: 0.0017\n",
      "Epoch 19/50\n",
      "85/85 [==============================] - 11s 129ms/step - loss: 0.0017\n",
      "Epoch 20/50\n",
      "85/85 [==============================] - 11s 124ms/step - loss: 0.0016\n",
      "Epoch 21/50\n",
      "85/85 [==============================] - 10s 113ms/step - loss: 0.0017\n",
      "Epoch 22/50\n",
      "85/85 [==============================] - 9s 109ms/step - loss: 0.0015\n",
      "Epoch 23/50\n",
      "85/85 [==============================] - 9s 106ms/step - loss: 0.0015\n",
      "Epoch 24/50\n",
      "85/85 [==============================] - 9s 106ms/step - loss: 0.0014 1s - loss - ETA: 0s - loss: 0.\n",
      "Epoch 25/50\n",
      "85/85 [==============================] - 9s 106ms/step - loss: 0.0015\n",
      "Epoch 26/50\n",
      "85/85 [==============================] - 9s 107ms/step - loss: 0.0014\n",
      "Epoch 27/50\n",
      "85/85 [==============================] - 9s 108ms/step - loss: 0.0014\n",
      "Epoch 28/50\n",
      "85/85 [==============================] - 10s 117ms/step - loss: 0.0014\n",
      "Epoch 29/50\n",
      "85/85 [==============================] - 9s 110ms/step - loss: 0.0013\n",
      "Epoch 30/50\n",
      "85/85 [==============================] - 9s 107ms/step - loss: 0.0013\n",
      "Epoch 31/50\n",
      "85/85 [==============================] - 8s 99ms/step - loss: 0.0012\n",
      "Epoch 32/50\n",
      "85/85 [==============================] - 9s 101ms/step - loss: 0.0013\n",
      "Epoch 33/50\n",
      "85/85 [==============================] - 9s 100ms/step - loss: 0.0012\n",
      "Epoch 34/50\n",
      "85/85 [==============================] - 9s 104ms/step - loss: 0.0011\n",
      "Epoch 35/50\n",
      "85/85 [==============================] - 10s 118ms/step - loss: 0.0011\n",
      "Epoch 36/50\n",
      "85/85 [==============================] - 10s 123ms/step - loss: 0.0011\n",
      "Epoch 37/50\n",
      "85/85 [==============================] - 10s 117ms/step - loss: 0.0011\n",
      "Epoch 38/50\n",
      "85/85 [==============================] - 11s 124ms/step - loss: 0.0012\n",
      "Epoch 39/50\n",
      "85/85 [==============================] - 10s 121ms/step - loss: 0.0012\n",
      "Epoch 40/50\n",
      "85/85 [==============================] - 10s 116ms/step - loss: 0.0011\n",
      "Epoch 41/50\n",
      "85/85 [==============================] - 10s 122ms/step - loss: 0.0011\n",
      "Epoch 42/50\n",
      "85/85 [==============================] - 10s 115ms/step - loss: 9.9497e-04\n",
      "Epoch 43/50\n",
      "85/85 [==============================] - 10s 115ms/step - loss: 0.0010\n",
      "Epoch 44/50\n",
      "85/85 [==============================] - 11s 124ms/step - loss: 0.0011\n",
      "Epoch 45/50\n",
      "85/85 [==============================] - 9s 111ms/step - loss: 9.5768e-04\n",
      "Epoch 46/50\n",
      "85/85 [==============================] - 9s 109ms/step - loss: 9.6868e-04\n",
      "Epoch 47/50\n",
      "85/85 [==============================] - 11s 127ms/step - loss: 9.4010e-04\n",
      "Epoch 48/50\n",
      "85/85 [==============================] - 10s 122ms/step - loss: 0.0011\n",
      "Epoch 49/50\n",
      "85/85 [==============================] - 11s 128ms/step - loss: 8.6905e-04\n",
      "Epoch 50/50\n",
      "85/85 [==============================] - 10s 114ms/step - loss: 9.3020e-04\n"
     ]
    }
   ],
   "source": [
    "# Compiling the RNN\n",
    "model.compile(optimizer='adam',loss='mean_squared_error')\n",
    "# Fitting to the training set\n",
    "history=model.fit(X_train,y_train, epochs=50, batch_size=32)"
   ]
  },
  {
   "cell_type": "markdown",
   "id": "846f3bf2",
   "metadata": {},
   "source": [
    "##### Model Prediction"
   ]
  },
  {
   "cell_type": "code",
   "execution_count": 15,
   "id": "9910bc39",
   "metadata": {},
   "outputs": [],
   "source": [
    "# Predicting the prices\n",
    "predicted_stock_price = model.predict(Xtest)\n",
    "predicted_stock_price = sc.inverse_transform(predicted_stock_price)"
   ]
  },
  {
   "cell_type": "code",
   "execution_count": 16,
   "id": "80c019cc",
   "metadata": {},
   "outputs": [
    {
     "data": {
      "image/png": "[encoded data removed]",
      "text/plain": [
       "<Figure size 432x288 with 1 Axes>"
      ]
     },
     "metadata": {
      "needs_background": "light"
     },
     "output_type": "display_data"
    }
   ],
   "source": [
    "# Visualizing the results for LSTM\n",
    "plot_predictions(test_set,predicted_stock_price)"
   ]
  },
  {
   "cell_type": "markdown",
   "id": "04e6eac0",
   "metadata": {},
   "source": [
    "##### Model Performance"
   ]
  },
  {
   "cell_type": "code",
   "execution_count": 17,
   "id": "30e91a95",
   "metadata": {},
   "outputs": [
    {
     "name": "stdout",
     "output_type": "stream",
     "text": [
      "The root mean squared error is 2.101219692841963.\n"
     ]
    }
   ],
   "source": [
    "# Evaluating our model\n",
    "return_rmse(test_set,predicted_stock_price)"
   ]
  }
 ],
 "metadata": {
  "kernelspec": {
   "display_name": "Python 3",
   "language": "python",
   "name": "python3"
  },
  "language_info": {
   "codemirror_mode": {
    "name": "ipython",
    "version": 3
   },
   "file_extension": ".py",
   "mimetype": "text/x-python",
   "name": "python",
   "nbconvert_exporter": "python",
   "pygments_lexer": "ipython3",
   "version": "3.5.6"
  }
 },
 "nbformat": 4,
 "nbformat_minor": 5
}
